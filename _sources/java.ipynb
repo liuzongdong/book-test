{
 "cells": [
  {
   "cell_type": "markdown",
   "id": "623c0ff7",
   "metadata": {},
   "source": [
    "# Java"
   ]
  },
  {
   "cell_type": "code",
   "execution_count": null,
   "id": "e3dd17b5",
   "metadata": {},
   "outputs": [],
   "source": [
    "System.out.println(\"Hello World\");"
   ]
  }
 ],
 "metadata": {
  "kernelspec": {
   "display_name": "Java",
   "language": "java",
   "name": "java"
  },
  "language_info": {
   "codemirror_mode": "java",
   "file_extension": ".jshell",
   "mimetype": "text/x-java-source",
   "name": "Java",
   "pygments_lexer": "java",
   "version": "11.0.11+9-Ubuntu-0ubuntu2.18.04"
  }
 },
 "nbformat": 4,
 "nbformat_minor": 5
}
